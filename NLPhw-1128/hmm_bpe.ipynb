{
 "cells": [
  {
   "cell_type": "markdown",
   "id": "0a7a16ed",
   "metadata": {},
   "source": [
    "## 任务一：HMM模型用于中文分词"
   ]
  },
  {
   "cell_type": "markdown",
   "id": "030d9a94",
   "metadata": {},
   "source": [
    "任务一评分标准：\n",
    "1. 共有8处TODO需要填写，每个TODO计1-2分，共9分，预计代码量30行；\n",
    "2. 允许自行修改、编写代码完成，对于该情况，请补充注释以便于评分，否则结果不正确将导致较多的扣分；\n",
    "3. 实验报告(python)/用于说明实验的文字块(jupyter notebook)不额外计分，但不写会导致扣分。\n",
    "\n",
    "注：本任务仅在短句子上进行效果测试，因此对概率的计算可直接进行连乘。在实践中，常先对概率取对数，将连乘变为加法来计算，以避免出现数值溢出的情况。"
   ]
  },
  {
   "cell_type": "markdown",
   "id": "f7d77db9",
   "metadata": {},
   "source": [
    "导入HMM参数，初始化所需的起始概率矩阵，转移概率矩阵，发射概率矩阵"
   ]
  },
  {
   "cell_type": "code",
   "execution_count": 1,
   "id": "b36e0db8",
   "metadata": {},
   "outputs": [],
   "source": [
    "import pickle\n",
    "import numpy as np"
   ]
  },
  {
   "cell_type": "code",
   "execution_count": 2,
   "id": "0d25beba",
   "metadata": {},
   "outputs": [],
   "source": [
    "with open(\"hmm_parameters.pkl\", \"rb\") as f:\n",
    "    hmm_parameters = pickle.load(f)\n",
    "\n",
    "# 非断字（B）为第0行，断字（I）为第1行\n",
    "# 发射概率矩阵中，词典大小为65536，以汉字的ord作为行key\n",
    "start_probability = hmm_parameters[\"start_prob\"]  # shape(2,)\n",
    "trans_matrix = hmm_parameters[\"trans_mat\"]  # shape(2, 2)\n",
    "emission_matrix = hmm_parameters[\"emission_mat\"]  # shape(2, 65536)"
   ]
  },
  {
   "cell_type": "markdown",
   "id": "f7070152",
   "metadata": {},
   "source": [
    "定义待处理的句子"
   ]
  },
  {
   "cell_type": "code",
   "execution_count": 3,
   "id": "87219e30",
   "metadata": {},
   "outputs": [],
   "source": [
    "# TODO: 将input_sentence中的xxx替换为你的姓名（1分）\n",
    "input_sentence = \"孙一林是一名优秀的学生\"\n"
   ]
  },
  {
   "cell_type": "markdown",
   "id": "1035cbc7",
   "metadata": {},
   "source": [
    "实现viterbi算法，并以此进行中文分词"
   ]
  },
  {
   "cell_type": "code",
   "execution_count": 4,
   "id": "1adac849",
   "metadata": {},
   "outputs": [],
   "source": [
    "def viterbi(sent_orig, start_prob, trans_mat, emission_mat):\n",
    "    \"\"\"\n",
    "    viterbi算法进行中文分词\n",
    "\n",
    "    Args:\n",
    "        sent_orig: str - 输入的句子\n",
    "        start_prob: numpy.ndarray - 起始概率矩阵\n",
    "        trans_mat: numpy.ndarray - 转移概率矩阵\n",
    "        emission_mat: numpy.ndarray - 发射概率矩阵\n",
    "\n",
    "    Return:\n",
    "        str - 中文分词的结果\n",
    "    \"\"\"\n",
    "    \n",
    "    #  将汉字转为数字表示\n",
    "    sent_ord = [ord(x) for x in sent_orig]\n",
    "    \n",
    "    # `dp`用来储存不同位置每种标注（B/I）的最大概率值\n",
    "    dp = np.zeros((2, len(sent_ord)), dtype=float)\n",
    "    \n",
    "    # `path`用来储存最大概率对应的上步B/I选择\n",
    "    #  例如 path[1][7] == 1 意味着第8个（从1开始计数）字符标注I对应的最大概率，其前一步的隐状态为1（I）\n",
    "    #  例如 path[0][5] == 1 意味着第6个字符标注B对应的最大概率，其前一步的隐状态为1（I）\n",
    "    #  例如 path[1][1] == 0 意味着第2个字符标注I对应的最大概率，其前一步的隐状态为0（B）\n",
    "    path = np.zeros((2, len(sent_ord)), dtype=int)\n",
    "    \n",
    "    #  TODO: 第一个位置的最大概率值计算（1分） \n",
    "    dp[0][0] = start_prob[0]*emission_mat[0][sent_ord[0]]\n",
    "    dp[1][0] = start_prob[1]*emission_mat[1][sent_ord[0]]\n",
    "    \n",
    "    #  TODO: 其余位置的最大概率值计算（填充dp和path矩阵）（2分）\n",
    "    for i in range(1, len(sent_ord)):\n",
    "        dp[0][i] = max(dp[0][i-1]*trans_mat[0][0], dp[1][i-1]*trans_mat[1][0]) * emission_mat[0][sent_ord[i]]\n",
    "        dp[1][i] = max(dp[0][i-1]*trans_mat[0][1], dp[1][i-1]*trans_mat[1][1]) * emission_mat[1][sent_ord[i]]\n",
    "        if dp[0][i-1]*trans_mat[0][0] >= dp[1][i-1]*trans_mat[1][0]:\n",
    "            path[0][i] = 0 \n",
    "        else:\n",
    "            path[0][i] = 1\n",
    "        if dp[0][i-1]*trans_mat[0][1] >= dp[1][i-1]*trans_mat[1][1]:\n",
    "            path[1][i] = 0 \n",
    "        else:\n",
    "            path[1][i] = 1\n",
    "    \n",
    "    #  `labels`用来储存每个位置最有可能的隐状态\n",
    "    labels = [0 for _ in range(len(sent_ord))]\n",
    "    \n",
    "    #  TODO：计算labels每个位置上的值（填充labels矩阵）（1分）\n",
    "    if dp[0][-1] <= dp[1][-1]:\n",
    "        labels[-1] = 1 \n",
    "    for i in reversed(range(0, len(sent_ord)-1)):\n",
    "        labels[i] = path[labels[i + 1]][i + 1]\n",
    "    \n",
    "    #  根据lalels生成切分好的字符串\n",
    "    sent_split = []\n",
    "    for idx, label in enumerate(labels):\n",
    "        if label == 1:\n",
    "            sent_split += [sent_ord[idx], ord(\"/\")]\n",
    "        else:\n",
    "            sent_split += [sent_ord[idx]]\n",
    "    sent_split_str = \"\".join([chr(x) for x in sent_split])\n",
    "\n",
    "    return sent_split_str\n"
   ]
  },
  {
   "cell_type": "markdown",
   "id": "3a4066fd",
   "metadata": {},
   "source": [
    "viterbi算法简要说明：\n",
    "\n",
    "第一步：根据已有的起始概率矩阵，转移概率矩阵的参数，由已经转化好的数字表示的汉字首元素，\n",
    "根据转移矩阵给出的概率值，算出动态规划需要维护数组dp的边界元素值\n",
    "\n",
    "第二步：对于sent_ord中的每一个元素，取出dp数组中的上一个概率值，根据转移概率矩阵计算概率的累乘（根据提示，在我们这里的短句子条件下，概率是可以直接乘算的），由于我们要保持最优子结构，这里要取最大值。之后再根据对应的数组下标从发射矩阵中取出相应的概率值乘算即可；在更新dp数组之后，也要根据所采用的的概率值，标记相应的路径，以便供下文更新label\n",
    "\n",
    "第三步：labels矩阵需要反向填充，具体来说，首先初始化好labels数组最后一个元素的值。由于给出的代码中labels初始化的元素均为零，这里就只需要检查dp数组最后一个元素的概率值并进行更新即可，之后仍然是递推地更新整个数组。\n"
   ]
  },
  {
   "cell_type": "code",
   "execution_count": 5,
   "id": "d795414b",
   "metadata": {},
   "outputs": [
    {
     "name": "stdout",
     "output_type": "stream",
     "text": [
      "viterbi算法分词结果： 孙一/林是/一名/优秀/的/学生/\n"
     ]
    }
   ],
   "source": [
    "print(\"viterbi算法分词结果：\", viterbi(input_sentence, start_probability, trans_matrix, emission_matrix))"
   ]
  },
  {
   "cell_type": "markdown",
   "id": "60fcafdb",
   "metadata": {},
   "source": [
    "实现前向算法，计算该句子的概率值"
   ]
  },
  {
   "cell_type": "code",
   "execution_count": 6,
   "id": "cf6796a1",
   "metadata": {},
   "outputs": [],
   "source": [
    "def compute_prob_by_forward(sent_orig, start_prob, trans_mat, emission_mat):\n",
    "    \"\"\"\n",
    "    前向算法，计算输入中文句子的概率值\n",
    "\n",
    "    Args:\n",
    "        sent_orig: str - 输入的句子\n",
    "        start_prob: numpy.ndarray - 起始概率矩阵\n",
    "        trans_mat: numpy.ndarray - 转移概率矩阵\n",
    "        emission_mat: numpy.ndarray - 发射概率矩阵\n",
    "\n",
    "    Return:\n",
    "        float - 概率值\n",
    "    \"\"\"\n",
    "    \n",
    "    #  将汉字转为数字表示\n",
    "    sent_ord = [ord(x) for x in sent_orig]\n",
    "\n",
    "    # `dp`用来储存不同位置每种隐状态（B/I）下，到该位置为止的句子的概率\n",
    "    dp = np.zeros((2, len(sent_ord)), dtype=float)\n",
    "\n",
    "    # TODO: 初始位置概率的计算（1分）\n",
    "    dp[0][0] = start_prob[0]*emission_mat[0][sent_ord[0]]\n",
    "    dp[1][0] = start_prob[1]*emission_mat[1][sent_ord[0]]\n",
    "    \n",
    "    # TODO: 先计算其余位置的概率（填充dp矩阵），然后return概率值（1分）\n",
    "    for i in range(1, len(sent_ord)):\n",
    "        dp[0][i] = (dp[0][i-1]*trans_mat[0][0] + dp[1][i-1]*trans_mat[1][0]) * emission_mat[0][sent_ord[i]]\n",
    "        dp[1][i] = (dp[0][i-1]*trans_mat[0][1] + dp[1][i-1]*trans_mat[1][1]) * emission_mat[1][sent_ord[i]]\n",
    "        \n",
    "\n",
    "    return sum([dp[i][len(sent_ord)-1] for i in range(2)])"
   ]
  },
  {
   "cell_type": "markdown",
   "id": "59533cd8",
   "metadata": {},
   "source": [
    "实现后向算法，计算该句子的概率值"
   ]
  },
  {
   "cell_type": "code",
   "execution_count": 7,
   "id": "1e898306",
   "metadata": {},
   "outputs": [],
   "source": [
    "def compute_prob_by_backward(sent_orig, start_prob, trans_mat, emission_mat):\n",
    "    \"\"\"\n",
    "    后向算法，计算输入中文句子的概率值\n",
    "\n",
    "    Args:\n",
    "        sent_orig: str - 输入的句子\n",
    "        start_prob: numpy.ndarray - 起始概率矩阵\n",
    "        trans_mat: numpy.ndarray - 转移概率矩阵\n",
    "        emission_mat: numpy.ndarray - 发射概率矩阵\n",
    "\n",
    "    Return:\n",
    "        float - 概率值\n",
    "    \"\"\"\n",
    "    \n",
    "    #  将汉字转为数字表示\n",
    "    sent_ord = [ord(x) for x in sent_orig]\n",
    "\n",
    "    # `dp`用来储存不同位置每种隐状态（B/I）下，从结尾到该位置为止的句子的概率\n",
    "    dp = np.zeros((2, len(sent_ord)), dtype=float)\n",
    "\n",
    "    # TODO: 终末位置概率的初始化（1分）\n",
    "    dp[0][-1] = 1\n",
    "    dp[1][-1] = 1\n",
    "    \n",
    "    # TODO: 先计算其余位置的概率（填充dp矩阵），然后return概率值（1分）\n",
    "    for i in reversed(range(0, len(sent_ord)-1)):\n",
    "        sent_ord_idx = sent_ord[i+1]\n",
    "        dp[0][i] = trans_mat[0][0]*dp[0][i+1]*emission_mat[0][sent_ord_idx] + trans_mat[0][1]*dp[1][i+1]*emission_mat[1][sent_ord_idx]\n",
    "        dp[1][i] = trans_mat[1][0]*dp[0][i+1]*emission_mat[0][sent_ord_idx] + trans_mat[1][1]*dp[1][i+1]*emission_mat[1][sent_ord_idx]\n",
    "\n",
    "    return sum([dp[i][0] * start_prob[i] * emission_mat[i][sent_ord[0]] for i in range(2)])"
   ]
  },
  {
   "cell_type": "markdown",
   "id": "7f20ddc5",
   "metadata": {},
   "source": [
    "前后向概率算法的基本思想和viterbi算法都是动态规划的算法，区别在于dp矩阵更新的方法不同。不过，compute_prob_by_forward算法中\n",
    "dp矩阵的初始化方法是与viterbi完全一致的。\n",
    "\n",
    "按照助教在群里的建议，我测试了代码的正确性，将姓名改为“小明”之后，viterbi算法分词结果是： “小明/是/一名/优秀/的/学生/“\n",
    "前向算法概率为1.9261686664194958e-27 后向算法概率为：1.926168666419496e-27。\n",
    "\n",
    "接下来的代码块展示的是使用我自己姓名的计算结果。\n"
   ]
  },
  {
   "cell_type": "code",
   "execution_count": 8,
   "id": "b26101d0",
   "metadata": {},
   "outputs": [
    {
     "name": "stdout",
     "output_type": "stream",
     "text": [
      "前向算法概率： 2.17616193949256e-31\n",
      "后向算法概率： 2.1761619394925606e-31\n"
     ]
    }
   ],
   "source": [
    "print(\"前向算法概率：\", compute_prob_by_forward(input_sentence, start_probability, trans_matrix, emission_matrix))\n",
    "print(\"后向算法概率：\", compute_prob_by_backward(input_sentence, start_probability, trans_matrix, emission_matrix))"
   ]
  },
  {
   "cell_type": "markdown",
   "id": "e994be6e",
   "metadata": {},
   "source": [
    "## 任务二：BPE算法用于英文分词"
   ]
  },
  {
   "cell_type": "markdown",
   "id": "c1cc4775",
   "metadata": {},
   "source": [
    "任务二评分标准：\n",
    "\n",
    "1. 共有7处TODO需要填写，每个TODO计1-2分，共9分，预计代码量50行；\n",
    "2. 允许自行修改、编写代码完成，对于该情况，请补充注释以便于评分，否则结果不正确将导致较多的扣分；\n",
    "3. 实验报告(python)/用于说明实验的文字块(jupyter notebook)不额外计分，但不写会导致扣分。"
   ]
  },
  {
   "cell_type": "markdown",
   "id": "0fb5dbb9",
   "metadata": {},
   "source": [
    "构建空格分词器，将语料中的句子以空格切分成单词，然后将单词拆分成字母加`</w>`的形式。例如`apple`将变为`a p p l e </w>`。"
   ]
  },
  {
   "cell_type": "code",
   "execution_count": 9,
   "id": "70e10703",
   "metadata": {},
   "outputs": [],
   "source": [
    "import re\n",
    "import functools"
   ]
  },
  {
   "cell_type": "code",
   "execution_count": 10,
   "id": "d6c3667a",
   "metadata": {},
   "outputs": [],
   "source": [
    "_splitor_pattern = re.compile(r\"[^a-zA-Z']+|(?=')\")\n",
    "_digit_pattern = re.compile(r\"\\d+\")\n",
    "\n",
    "def white_space_tokenize(corpus):\n",
    "    \"\"\"\n",
    "    先正则化（字母转小写、数字转为N、除去标点符号），然后以空格分词语料中的句子，例如：\n",
    "    输入 corpus=[\"I am happy.\", \"I have 10 apples!\"]，\n",
    "    得到 [[\"i\", \"am\", \"happy\"], [\"i\", \"have\", \"N\", \"apples\"]]\n",
    "\n",
    "    Args:\n",
    "        corpus: List[str] - 待处理的语料\n",
    "\n",
    "    Return:\n",
    "        List[List[str]] - 二维List，内部的List由每个句子的单词str构成\n",
    "    \"\"\"\n",
    "\n",
    "    tokeneds = [list(\n",
    "        filter(lambda tkn: len(tkn)>0, _splitor_pattern.split(_digit_pattern.sub(\"N\", stc.lower())))) for stc in corpus\n",
    "    ]\n",
    "    \n",
    "    return tokeneds"
   ]
  },
  {
   "cell_type": "markdown",
   "id": "3732502a",
   "metadata": {},
   "source": [
    "编写相应函数构建BPE算法需要用到的初始状态词典"
   ]
  },
  {
   "cell_type": "code",
   "execution_count": 11,
   "id": "7bf823e2",
   "metadata": {},
   "outputs": [],
   "source": [
    "def build_bpe_vocab(corpus):\n",
    "    \"\"\"\n",
    "    将语料进行white_space_tokenize处理后，将单词每个字母以空格隔开、结尾加上</w>后，构建带频数的字典，例如：\n",
    "    输入 corpus=[\"I am happy.\", \"I have 10 apples!\"]，\n",
    "    得到\n",
    "    {\n",
    "        'i </w>': 2,\n",
    "        'a m </w>': 1,\n",
    "        'h a p p y </w>': 1,\n",
    "        'h a v e </w>': 1,\n",
    "        'N </w>': 1,\n",
    "        'a p p l e s </w>': 1\n",
    "     }\n",
    "\n",
    "    Args:\n",
    "        corpus: List[str] - 待处理的语料\n",
    "\n",
    "    Return:\n",
    "        Dict[str, int] - \"单词分词状态->频数\"的词典\n",
    "    \"\"\"\n",
    "\n",
    "    tokenized_corpus = white_space_tokenize(corpus)\n",
    "\n",
    "    bpe_vocab = dict()\n",
    "    \n",
    "    # TODO: 完成函数体（1分）\n",
    "    for sentence in tokenized_corpus:\n",
    "        for word in sentence:\n",
    "            key = ''\n",
    "            for letter in word:\n",
    "                key += (letter + ' ')\n",
    "            key += '</w>'\n",
    "            bpe_vocab[key] = bpe_vocab.get(key, 0) + 1\n",
    "    return bpe_vocab"
   ]
  },
  {
   "cell_type": "code",
   "execution_count": 12,
   "id": "c419f4ef",
   "metadata": {},
   "outputs": [
    {
     "name": "stdout",
     "output_type": "stream",
     "text": [
      "('i </w>', 2)\n",
      "('a m </w>', 1)\n",
      "('h a p p y </w>', 1)\n",
      "('h a v e </w>', 1)\n",
      "('N </w>', 1)\n",
      "('a p p l e s </w>', 1)\n"
     ]
    }
   ],
   "source": [
    "#此函数按照给出的提示直接实现即可，以下是简单的正确性测试：\n",
    "test_corpus=[\"I am happy.\", \"I have 10 apples!\"]\n",
    "test_bpe_vocab = build_bpe_vocab(test_corpus)\n",
    "for elem in test_bpe_vocab.items():\n",
    "    print(elem)"
   ]
  },
  {
   "cell_type": "markdown",
   "id": "b1d25245",
   "metadata": {},
   "source": [
    "编写所需的其他函数"
   ]
  },
  {
   "cell_type": "code",
   "execution_count": 13,
   "id": "087d11e2",
   "metadata": {},
   "outputs": [],
   "source": [
    "def get_bigram_freq(bpe_vocab):\n",
    "    \"\"\"\n",
    "    统计\"单词分词状态->频数\"的词典中，各bigram的频次（假设该词典中，各个unigram以空格间隔），例如：\n",
    "    输入 bpe_vocab=\n",
    "    {\n",
    "        'i </w>': 2,\n",
    "        'a m </w>': 1,\n",
    "        'h a p p y </w>': 1,\n",
    "        'h a v e </w>': 1,\n",
    "        'N </w>': 1,\n",
    "        'a p p l e s </w>': 1\n",
    "    }\n",
    "    得到\n",
    "    {\n",
    "        ('i', '</w>'): 2,\n",
    "        ('a', 'm'): 1,\n",
    "        ('m', '</w>'): 1,\n",
    "        ('h', 'a'): 2,\n",
    "        ('a', 'p'): 2,\n",
    "        ('p', 'p'): 2,\n",
    "        ('p', 'y'): 1,\n",
    "        ('y', '</w>'): 1,\n",
    "        ('a', 'v'): 1,\n",
    "        ('v', 'e'): 1,\n",
    "        ('e', '</w>'): 1,\n",
    "        ('N', '</w>'): 1,\n",
    "        ('p', 'l'): 1,\n",
    "        ('l', 'e'): 1,\n",
    "        ('e', 's'): 1,\n",
    "        ('s', '</w>'): 1\n",
    "    }\n",
    "\n",
    "    Args:\n",
    "        bpe_vocab: Dict[str, int] - \"单词分词状态->频数\"的词典\n",
    "\n",
    "    Return:\n",
    "        Dict[Tuple(str, str), int] - \"bigram->频数\"的词典\n",
    "    \"\"\"\n",
    "\n",
    "    bigram_freq = dict()\n",
    "    \n",
    "    # TODO: 完成函数体（1分）\n",
    "    for word, freq in bpe_vocab.items():\n",
    "        word_split = word.split(' ')\n",
    "        for i in range(len(word_split) - 1):\n",
    "            key = tuple(word_split[i:i + 2])\n",
    "            bigram_freq[key] = bigram_freq.get(key,0)+freq\n",
    "\n",
    "    return bigram_freq"
   ]
  },
  {
   "cell_type": "code",
   "execution_count": 14,
   "id": "4f9c2610",
   "metadata": {},
   "outputs": [
    {
     "name": "stdout",
     "output_type": "stream",
     "text": [
      "(('i', '</w>'), 2)\n",
      "(('a', 'm'), 1)\n",
      "(('m', '</w>'), 1)\n",
      "(('h', 'a'), 2)\n",
      "(('a', 'p'), 2)\n",
      "(('p', 'p'), 2)\n",
      "(('p', 'y'), 1)\n",
      "(('y', '</w>'), 1)\n",
      "(('a', 'v'), 1)\n",
      "(('v', 'e'), 1)\n",
      "(('e', '</w>'), 1)\n",
      "(('N', '</w>'), 1)\n",
      "(('p', 'l'), 1)\n",
      "(('l', 'e'), 1)\n",
      "(('e', 's'), 1)\n",
      "(('s', '</w>'), 1)\n"
     ]
    }
   ],
   "source": [
    "#此函数同样直接按照助教所给提示实现即可\n",
    "#沿用上个正确性测试得到的test_bpe_vocab，继续本问的正确性测试，其结果如下\n",
    "test_bigram_freq = get_bigram_freq(test_bpe_vocab)\n",
    "for elem in test_bigram_freq.items():\n",
    "    print(elem)"
   ]
  },
  {
   "cell_type": "code",
   "execution_count": 15,
   "id": "ba426043",
   "metadata": {},
   "outputs": [],
   "source": [
    "def refresh_bpe_vocab_by_merging_bigram(bigram, old_bpe_vocab):\n",
    "    \"\"\"\n",
    "    在\"单词分词状态->频数\"的词典中，合并指定的bigram（即去掉对应的相邻unigram之间的空格），最后返回新的词典，例如：\n",
    "    输入 bigram=('i', '</w>')，old_bpe_vocab=\n",
    "    {\n",
    "        'i </w>': 2,\n",
    "        'a m </w>': 1,\n",
    "        'h a p p y </w>': 1,\n",
    "        'h a v e </w>': 1,\n",
    "        'N </w>': 1,\n",
    "        'a p p l e s </w>': 1\n",
    "    }\n",
    "    得到\n",
    "    {\n",
    "        'i</w>': 2,\n",
    "        'a m </w>': 1,\n",
    "        'h a p p y </w>': 1,\n",
    "        'h a v e </w>': 1,\n",
    "        'N </w>': 1,\n",
    "        'a p p l e s </w>': 1\n",
    "    }\n",
    "\n",
    "    Args:\n",
    "        old_bpe_vocab: Dict[str, int] - 初始\"单词分词状态->频数\"的词典\n",
    "\n",
    "    Return:\n",
    "        Dict[str, int] - 合并后的\"单词分词状态->频数\"的词典\n",
    "    \"\"\"\n",
    "    \n",
    "    new_bpe_vocab = dict()\n",
    "\n",
    "    # TODO: 完成函数体（1分）\n",
    "    for key, freq in old_bpe_vocab.items():\n",
    "        key = key.replace(\" \".join(bigram), \"\".join(bigram))\n",
    "        new_bpe_vocab[key] = new_bpe_vocab.get(key, 0) + freq\n",
    "    \n",
    "    return new_bpe_vocab"
   ]
  },
  {
   "cell_type": "code",
   "execution_count": 16,
   "id": "0243c021",
   "metadata": {},
   "outputs": [
    {
     "name": "stdout",
     "output_type": "stream",
     "text": [
      "('i</w>', 2)\n",
      "('a m </w>', 1)\n",
      "('h a p p y </w>', 1)\n",
      "('h a v e </w>', 1)\n",
      "('N </w>', 1)\n",
      "('a p p l e s </w>', 1)\n"
     ]
    }
   ],
   "source": [
    "##根据函数说明中提供的例子，此函数的简单正确性测试如下\n",
    "bigram=('i', '</w>')\n",
    "old_bpe_vocab={\n",
    "        'i </w>': 2,\n",
    "        'a m </w>': 1,\n",
    "        'h a p p y </w>': 1,\n",
    "        'h a v e </w>': 1,\n",
    "        'N </w>': 1,\n",
    "        'a p p l e s </w>': 1\n",
    "    }\n",
    "new_bpe_vocab = refresh_bpe_vocab_by_merging_bigram(bigram, old_bpe_vocab)\n",
    "for elem in new_bpe_vocab.items():\n",
    "    print(elem)"
   ]
  },
  {
   "cell_type": "code",
   "execution_count": 17,
   "id": "992438a1",
   "metadata": {},
   "outputs": [],
   "source": [
    "def get_bpe_tokens(bpe_vocab):\n",
    "    \"\"\"\n",
    "    根据\"单词分词状态->频数\"的词典，返回所得到的BPE分词列表，并将该列表按照分词长度降序排序返回，例如：\n",
    "    输入 bpe_vocab=\n",
    "    {\n",
    "        'i</w>': 2,\n",
    "        'a m </w>': 1,\n",
    "        'ha pp y </w>': 1,\n",
    "        'ha v e </w>': 1,\n",
    "        'N </w>': 1,\n",
    "        'a pp l e s </w>': 1\n",
    "    }\n",
    "    得到\n",
    "    [\n",
    "        ('i</w>', 2),\n",
    "        ('ha', 2),\n",
    "        ('pp', 2),\n",
    "        ('a', 2),\n",
    "        ('m', 1),\n",
    "        ('</w>', 5),\n",
    "        ('y', 1),\n",
    "        ('v', 1),\n",
    "        ('e', 2),\n",
    "        ('N', 1),\n",
    "        ('l', 1),\n",
    "        ('s', 1)\n",
    "     ]\n",
    "\n",
    "    Args:\n",
    "        bpe_vocab: Dict[str, int] - \"单词分词状态->频数\"的词典\n",
    "\n",
    "    Return:\n",
    "        List[Tuple(str, int)] - BPE分词和对应频数组成的List\n",
    "    \"\"\"\n",
    "    \n",
    "    # TODO: 完成函数体（2分）\n",
    "    bpe_tokens_as_dict = dict()\n",
    "    \n",
    "    for word, freq in bpe_vocab.items():\n",
    "        word_split = word.split(' ')\n",
    "        for key in word_split:\n",
    "            bpe_tokens_as_dict[key] = bpe_tokens_as_dict.get(key,0)+freq\n",
    "    bpe_tokens = list(bpe_tokens_as_dict.items())\n",
    "    bpe_tokens.sort(reverse = True, key = lambda x: len(x[0]) if x[0][-4:]!='</w>' else len(x[0]) - 3 )\n",
    "\n",
    "    return bpe_tokens"
   ]
  },
  {
   "cell_type": "code",
   "execution_count": 18,
   "id": "6f09efa4",
   "metadata": {},
   "outputs": [
    {
     "name": "stdout",
     "output_type": "stream",
     "text": [
      "('i</w>', 2)\n",
      "('ha', 2)\n",
      "('pp', 2)\n",
      "('a', 2)\n",
      "('m', 1)\n",
      "('</w>', 5)\n",
      "('y', 1)\n",
      "('v', 1)\n",
      "('e', 2)\n",
      "('N', 1)\n",
      "('l', 1)\n",
      "('s', 1)\n"
     ]
    }
   ],
   "source": [
    "#此函数特别需要注意的一点是，由于我们要按照分词长度降序排序返回，可是词尾'</w>'在计算长度时结果为4，\n",
    "#如果我们按照4处理，会影响排序，稍微影响到我们最后的结果（但是不影响正确性）\n",
    "#不过只需要在排序时对lambda函数进行简单的微调即可处理这种特殊情况（函数返回前的最后一行即做了这个微调）\n",
    "\n",
    "#以下是利用助教提供的例子进行的简单正确性测试，可以看到'</w>'是按照长度为1计算的，放在了正确的位置\n",
    "bpe_vocab = {\n",
    "        'i</w>': 2,\n",
    "        'a m </w>': 1,\n",
    "        'ha pp y </w>': 1,\n",
    "        'ha v e </w>': 1,\n",
    "        'N </w>': 1,\n",
    "        'a pp l e s </w>': 1\n",
    "    }\n",
    "bpe_tokens = get_bpe_tokens(bpe_vocab)\n",
    "for elem in bpe_tokens:\n",
    "    print(elem)"
   ]
  },
  {
   "cell_type": "code",
   "execution_count": 19,
   "id": "3c56995e",
   "metadata": {},
   "outputs": [],
   "source": [
    "def print_bpe_tokenize(word, bpe_tokens):\n",
    "    \"\"\"\n",
    "    根据按长度降序的BPE分词列表，将所给单词进行BPE分词，最后打印结果。\n",
    "    \n",
    "    思想是，对于一个待BPE分词的单词，按照长度顺序从列表中寻找BPE分词进行子串匹配，\n",
    "    若成功匹配，则对该子串左右的剩余部分递归地进行下一轮匹配，直到剩余部分长度为0，\n",
    "    或者剩余部分无法匹配（该部分整体由\"<unknown>\"代替）\n",
    "    \n",
    "    例1：\n",
    "    输入 word=\"supermarket\", bpe_tokens=[\n",
    "        (\"su\", 20),\n",
    "        (\"are\", 10),\n",
    "        (\"per\", 30),\n",
    "    ]\n",
    "    最终打印 \"su per <unknown>\"\n",
    "\n",
    "    例2：\n",
    "    输入 word=\"shanghai\", bpe_tokens=[\n",
    "        (\"hai\", 1),\n",
    "        (\"sh\", 1),\n",
    "        (\"an\", 1),\n",
    "        (\"</w>\", 1),\n",
    "        (\"g\", 1)\n",
    "    ]\n",
    "    最终打印 \"sh an g hai </w>\"\n",
    "\n",
    "    Args:\n",
    "        word: str - 待分词的单词str\n",
    "        bpe_tokens: List[Tuple(str, int)] - BPE分词和对应频数组成的List\n",
    "    \"\"\"\n",
    "    \n",
    "    # TODO: 请尝试使用递归函数定义该分词过程（2分）\n",
    "    def bpe_tokenize(sub_word):\n",
    "        if sub_word == '':\n",
    "            return sub_word\n",
    "        for word, freq in bpe_tokens:\n",
    "            for i in range(0, len(sub_word) - len(word) + 1):\n",
    "                if sub_word[i: i+len(word)] == word:\n",
    "                    return bpe_tokenize(sub_word[: i]) + word + ' ' + bpe_tokenize(sub_word[i+len(word):])\n",
    "        return '<unknown> '\n",
    "\n",
    "    res = bpe_tokenize(word+\"</w>\")\n",
    "    print(res)"
   ]
  },
  {
   "cell_type": "code",
   "execution_count": 20,
   "id": "8da315ce",
   "metadata": {},
   "outputs": [
    {
     "name": "stdout",
     "output_type": "stream",
     "text": [
      "su per <unknown> \n",
      "sh an g hai </w> \n"
     ]
    }
   ],
   "source": [
    "#按照助教提供提示的递归思路实现即可。以下是简单的正确性测试\n",
    "word=\"supermarket\"\n",
    "bpe_tokens=[\n",
    "        (\"su\", 20),\n",
    "        (\"are\", 10),\n",
    "        (\"per\", 30),\n",
    "    ]\n",
    "print_bpe_tokenize(word,bpe_tokens)\n",
    "word=\"shanghai\"\n",
    "bpe_tokens=[\n",
    "        (\"hai\", 1),\n",
    "        (\"sh\", 1),\n",
    "        (\"an\", 1),\n",
    "        (\"</w>\", 1),\n",
    "        (\"g\", 1)\n",
    "    ]\n",
    "print_bpe_tokenize(word,bpe_tokens)"
   ]
  },
  {
   "cell_type": "markdown",
   "id": "ecd70402",
   "metadata": {},
   "source": [
    "开始读取数据集并训练BPE分词器"
   ]
  },
  {
   "cell_type": "code",
   "execution_count": 21,
   "id": "215b56d5",
   "metadata": {},
   "outputs": [
    {
     "name": "stdout",
     "output_type": "stream",
     "text": [
      "Loaded training corpus.\n"
     ]
    }
   ],
   "source": [
    "with open(\"data/news.2007.en.shuffled.deduped.train\", encoding=\"utf-8\") as f:\n",
    "    training_corpus = list(map(lambda l: l.strip(), f.readlines()[:1000]))\n",
    "\n",
    "print(\"Loaded training corpus.\")"
   ]
  },
  {
   "cell_type": "code",
   "execution_count": 22,
   "id": "7bccd41d",
   "metadata": {},
   "outputs": [],
   "source": [
    "training_iter_num = 300\n",
    "\n",
    "training_bpe_vocab = build_bpe_vocab(training_corpus)\n",
    "for i in range(training_iter_num):\n",
    "    # TODO: 完成训练循环内的代码逻辑（2分）\n",
    "    bigram_freq_as_dict = get_bigram_freq(training_bpe_vocab)\n",
    "    bigram_freq_as_list = list(bigram_freq_as_dict.items())\n",
    "    bigram_freq_as_list.sort(reverse = True, key = lambda x: x[1])\n",
    "    bigram = bigram_freq_as_list[0][0]\n",
    "    training_bpe_vocab = refresh_bpe_vocab_by_merging_bigram(bigram, training_bpe_vocab)\n",
    "\n",
    "training_bpe_tokens = get_bpe_tokens(training_bpe_vocab)"
   ]
  },
  {
   "cell_type": "markdown",
   "id": "5134dd81",
   "metadata": {},
   "source": [
    "在每个循环内更新training_bpe_vocal.基本的思路是先从旧的training_bpe_vocab中提取bigram的频率，而得到的频率是以词典形式存储的。\n",
    "我们需要将其转化成列表并按照频率进行降序排序，之后从列表的首位（第一个索引0）取出需要被合并的bigram（第二个索引0），\n",
    "调用refresh_bpe_vocab_by_merging_bigram函数对training_bpe_vocab进行更新即可。"
   ]
  },
  {
   "cell_type": "markdown",
   "id": "78ea3ddd",
   "metadata": {},
   "source": [
    "测试BPE分词器的分词效果"
   ]
  },
  {
   "cell_type": "code",
   "execution_count": 23,
   "id": "c0cfdb29",
   "metadata": {},
   "outputs": [
    {
     "name": "stdout",
     "output_type": "stream",
     "text": [
      "naturallanguageprocessing 的分词结果为：\n",
      "n atur al lan gu age pro ce s sing</w> \n"
     ]
    }
   ],
   "source": [
    "test_word = \"naturallanguageprocessing\"\n",
    "\n",
    "print(\"naturallanguageprocessing 的分词结果为：\")\n",
    "print_bpe_tokenize(test_word, training_bpe_tokens)"
   ]
  },
  {
   "cell_type": "code",
   "execution_count": 24,
   "id": "a7d69f60",
   "metadata": {},
   "outputs": [
    {
     "name": "stdout",
     "output_type": "stream",
     "text": [
      "s han g ha i j i a o ton g uni ver sity</w> \n",
      "no <unknown> don g c hu an ro ad</w> \n",
      "si y u an l ake i sto the sou tho f b a o y u g an g li b r ary</w> \n",
      "en for cin g mo du l ari t y with cli en t s an d cu s tom er ser vices</w> \n",
      "af at c at s ato n them at</w> \n",
      "b l ab l ab l ab <unknown> l ab l ab l a</w> \n"
     ]
    }
   ],
   "source": [
    "#以下是我随意测试的一些其他分词结果\n",
    "test_list = [\n",
    "    \"shanghaijiaotonguniversity\",\n",
    "    \"no800dongchuanroad\",\n",
    "    \"siyuanlakeistothesouthofbaoyuganglibrary\",\n",
    "    \"enforcingmodularitywithclientsandcustomerservices\",\n",
    "    \"afatcatsatonthemat\",\n",
    "    \"blablablab@@@@@lablabla\"\n",
    "]\n",
    "for elem in test_list:\n",
    "    print_bpe_tokenize(elem,training_bpe_tokens)"
   ]
  }
 ],
 "metadata": {
  "kernelspec": {
   "display_name": "Python 3 (ipykernel)",
   "language": "python",
   "name": "python3"
  },
  "language_info": {
   "codemirror_mode": {
    "name": "ipython",
    "version": 3
   },
   "file_extension": ".py",
   "mimetype": "text/x-python",
   "name": "python",
   "nbconvert_exporter": "python",
   "pygments_lexer": "ipython3",
   "version": "3.8.12"
  }
 },
 "nbformat": 4,
 "nbformat_minor": 5
}
